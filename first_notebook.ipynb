{
 "cells": [
  {
   "cell_type": "markdown",
   "id": "aaf5c3d7",
   "metadata": {},
   "source": [
    "### code test"
   ]
  },
  {
   "cell_type": "code",
   "execution_count": null,
   "id": "e7be3c3b",
   "metadata": {},
   "outputs": [],
   "source": [
    "2 + 2\n"
   ]
  },
  {
   "cell_type": "markdown",
   "id": "537e9bad",
   "metadata": {},
   "source": [
    "### Variables "
   ]
  },
  {
   "cell_type": "code",
   "execution_count": null,
   "id": "0fa7c1c6",
   "metadata": {},
   "outputs": [],
   "source": [
    "a = 6\n",
    "b = 9\n",
    "c = 8\n",
    "d = a * b + c\n",
    "print(d)\n"
   ]
  }
 ],
 "metadata": {
  "kernelspec": {
   "display_name": "Python 3 (ipykernel)",
   "language": "python",
   "name": "python3"
  },
  "language_info": {
   "codemirror_mode": {
    "name": "ipython",
    "version": 3
   },
   "file_extension": ".py",
   "mimetype": "text/x-python",
   "name": "python",
   "nbconvert_exporter": "python",
   "pygments_lexer": "ipython3",
   "version": "3.9.16"
  }
 },
 "nbformat": 4,
 "nbformat_minor": 5
}
