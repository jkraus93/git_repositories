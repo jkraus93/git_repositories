{
 "cells": [
  {
   "cell_type": "code",
   "execution_count": 12,
   "metadata": {
    "collapsed": true
   },
   "outputs": [],
   "source": [
    "import numpy as np\n",
    "from scipy import stats\n",
    "import pandas as pd\n",
    "from getpass import getpass\n",
    "import snowflake.connector\n",
    "password = getpass('Password: ')"
   ]
  },
  {
   "cell_type": "code",
   "execution_count": null,
   "outputs": [],
   "source": [
    "# connect to scowflake\n",
    "cn = snowflake.connector.connect(\n",
    "    user = 'mkulczyk',\n",
    "    password = password,\n",
    "    account = 'ox58300.eu-west-1',\n",
    "    warehouse = 'COMPUTE_WH_S',\n",
    "    database = 'REPORTING',\n",
    "    schema = 'DWH')"
   ],
   "metadata": {
    "collapsed": false
   }
  },
  {
   "cell_type": "code",
   "execution_count": null,
   "outputs": [],
   "source": [
    "#total"
   ],
   "metadata": {
    "collapsed": false
   }
  },
  {
   "cell_type": "code",
   "execution_count": 23,
   "outputs": [
    {
     "name": "stderr",
     "output_type": "stream",
     "text": [
      "/Users/magdalenakulczyk/opt/anaconda3/lib/python3.9/site-packages/pandas/io/sql.py:762: UserWarning: pandas only support SQLAlchemy connectable(engine/connection) ordatabase string URI or sqlite3 DBAPI2 connectionother DBAPI2 objects are not tested, please consider using SQLAlchemy\n",
      "  warnings.warn(\n"
     ]
    }
   ],
   "source": [
    "query_total = '''\n",
    "with project_details as(\n",
    "    select PROJECT_ID\n",
    "          ,PROJECT_PUBLIC_KEY\n",
    "\n",
    "    from REPORTING.PROJECTS.PROJECT_DETAILS\n",
    "    where TEST_PROJECT=0 and PROJECT_DELETED_IND=0\n",
    " ),\n",
    "\n",
    " join_to_convo_from_intents as (\n",
    "     select distinct\n",
    "     event_time::date                                    as period_date,\n",
    "     event_data:\"user_properties\":\"project_id\"::integer  as project_id,\n",
    "      event_type\n",
    "\n",
    "      from staging.amplitude.stg_amplitude__raw_events\n",
    "      where event_type ='Conversation: Join to the conversation'\n",
    "      and\n",
    "      (event_data:\"event_properties\":\"source\"='intents'\n",
    "       or\n",
    "       event_data:\"event_properties\":\"source\"\n",
    "       in('shippingPolicy','orderIssues','products'))\n",
    "       and period_date>='2022-12-01'\n",
    " ),\n",
    "  intent_adoption as (\n",
    "    select project_id\n",
    "        , min(period_date) as adoption_date\n",
    "        , datediff(day,adoption_date,current_date-1) as diff_since_adoption\n",
    "    from join_to_convo_from_intents\n",
    "    group by 1\n",
    ") ,\n",
    "  ml_convos as (\n",
    "    select PUBLIC_KEY,\n",
    "        THREAD_ID,\n",
    "        CONV_ID\n",
    "    from staging.NLP.STG_NLP__INTENT_CLASSIFIER_PREDICTIONS\n",
    "    where INTENT_LABEL in ('order cancelation','order change','order damaged/wrong','order status','order support',\n",
    "    'product','product exchange','refund','return','shipping change','shipping delivery issue','shipping policy')\n",
    "),\n",
    "\n",
    "\n",
    " conversation_thread as (\n",
    "    select distinct ct.project_id\n",
    "                   , ia.adoption_date\n",
    "                   , ct.started_at::DATE\n",
    "                   , case when ct.started_at::DATE <adoption_date then 'before' else 'after' end tipping_point\n",
    "                   , ct.conversation_id\n",
    "                   , ct.id conversation_thread_id\n",
    "                   , HAS_MESSAGES_FROM_VISITOR\n",
    "\n",
    "    from intent_adoption ia\n",
    "    join project_details pd\n",
    "    on pd.PROJECT_ID=ia.project_id\n",
    "    join reporting.core.conversation_thread ct\n",
    "    on ct.PROJECT_ID=ia.project_id\n",
    "    join ml_convos mc\n",
    "     on mc.PUBLIC_KEY=pd.PROJECT_PUBLIC_KEY and  ct.id=mc.THREAD_ID and ct.started_at::DATE  >= dateadd(day,-diff_since_adoption,adoption_date)\n",
    "     where ia.adoption_date is not null and ct.started_at::DATE>='2022-09-01'\n",
    " ),\n",
    "\n",
    " conversation_threads_operators as (\n",
    "    select conversation_thread_id\n",
    "          , operator_id\n",
    "          , response_time\n",
    "          , is_first_response_in_thread\n",
    "\n",
    "    from reporting.core.conversation_threads_operators\n",
    " ),\n",
    "\n",
    "conversation_threads_joined as (\n",
    "     select * from conversation_thread\n",
    "      left join conversation_threads_operators using(conversation_thread_id)\n",
    " )\n",
    "\n",
    "select   project_id,tipping_point\n",
    "       , sum(response_time) as total_first_response_time\n",
    "       , round(stddev(RESPONSE_TIME),2) as standard_dev\n",
    "   -- response_time is null when the convo was started by operator so we want to exclude these threads\n",
    "       ,  sum(iff(response_time is not null,1,0)) as afrt_conversations_count\n",
    "       , round(total_first_response_time/afrt_conversations_count,2) avg_frt\n",
    "\n",
    "from conversation_threads_joined\n",
    "where has_messages_from_visitor=1 and is_first_response_in_thread=1\n",
    "group by 1,2\n",
    "'''\n",
    "\n",
    "# connect to scowflake\n",
    "cn = snowflake.connector.connect(\n",
    "    user = 'mkulczyk',\n",
    "    password = password,\n",
    "    account = 'ox58300.eu-west-1',\n",
    "    warehouse = 'COMPUTE_WH_S',\n",
    "    database = 'REPORTING',\n",
    "    schema = 'DWH')\n",
    "\n",
    "# load the data\n",
    "data_total= pd.read_sql(query_total, cn)"
   ],
   "metadata": {
    "collapsed": false
   }
  },
  {
   "cell_type": "code",
   "execution_count": 24,
   "outputs": [
    {
     "data": {
      "text/plain": "      PROJECT_ID TIPPING_POINT  TOTAL_FIRST_RESPONSE_TIME  STANDARD_DEV  \\\n0        1995771        before                   784169.0       2408.95   \n1        2034556        before                   207845.0       3366.63   \n2        1448971        before                    96637.0       1322.80   \n3         904563        before                   215453.0       1909.58   \n4        2134983        before                   266774.0       1173.32   \n...          ...           ...                        ...           ...   \n2272     1886995         after                     1756.0           NaN   \n2273     1704789        before                      150.0         22.63   \n2274     1832062        before                     7770.0           NaN   \n2275     2475505         after                     7289.0       4770.85   \n2276     2556252         after                     1040.0           NaN   \n\n      AFRT_CONVERSATIONS_COUNT  AVG_FRT  \n0                          396  1980.22  \n1                           49  4241.73  \n2                          256   377.49  \n3                          165  1305.78  \n4                          743   359.05  \n...                        ...      ...  \n2272                         1  1756.00  \n2273                         2    75.00  \n2274                         1  7770.00  \n2275                         2  3644.50  \n2276                         1  1040.00  \n\n[2277 rows x 6 columns]",
      "text/html": "<div>\n<style scoped>\n    .dataframe tbody tr th:only-of-type {\n        vertical-align: middle;\n    }\n\n    .dataframe tbody tr th {\n        vertical-align: top;\n    }\n\n    .dataframe thead th {\n        text-align: right;\n    }\n</style>\n<table border=\"1\" class=\"dataframe\">\n  <thead>\n    <tr style=\"text-align: right;\">\n      <th></th>\n      <th>PROJECT_ID</th>\n      <th>TIPPING_POINT</th>\n      <th>TOTAL_FIRST_RESPONSE_TIME</th>\n      <th>STANDARD_DEV</th>\n      <th>AFRT_CONVERSATIONS_COUNT</th>\n      <th>AVG_FRT</th>\n    </tr>\n  </thead>\n  <tbody>\n    <tr>\n      <th>0</th>\n      <td>1995771</td>\n      <td>before</td>\n      <td>784169.0</td>\n      <td>2408.95</td>\n      <td>396</td>\n      <td>1980.22</td>\n    </tr>\n    <tr>\n      <th>1</th>\n      <td>2034556</td>\n      <td>before</td>\n      <td>207845.0</td>\n      <td>3366.63</td>\n      <td>49</td>\n      <td>4241.73</td>\n    </tr>\n    <tr>\n      <th>2</th>\n      <td>1448971</td>\n      <td>before</td>\n      <td>96637.0</td>\n      <td>1322.80</td>\n      <td>256</td>\n      <td>377.49</td>\n    </tr>\n    <tr>\n      <th>3</th>\n      <td>904563</td>\n      <td>before</td>\n      <td>215453.0</td>\n      <td>1909.58</td>\n      <td>165</td>\n      <td>1305.78</td>\n    </tr>\n    <tr>\n      <th>4</th>\n      <td>2134983</td>\n      <td>before</td>\n      <td>266774.0</td>\n      <td>1173.32</td>\n      <td>743</td>\n      <td>359.05</td>\n    </tr>\n    <tr>\n      <th>...</th>\n      <td>...</td>\n      <td>...</td>\n      <td>...</td>\n      <td>...</td>\n      <td>...</td>\n      <td>...</td>\n    </tr>\n    <tr>\n      <th>2272</th>\n      <td>1886995</td>\n      <td>after</td>\n      <td>1756.0</td>\n      <td>NaN</td>\n      <td>1</td>\n      <td>1756.00</td>\n    </tr>\n    <tr>\n      <th>2273</th>\n      <td>1704789</td>\n      <td>before</td>\n      <td>150.0</td>\n      <td>22.63</td>\n      <td>2</td>\n      <td>75.00</td>\n    </tr>\n    <tr>\n      <th>2274</th>\n      <td>1832062</td>\n      <td>before</td>\n      <td>7770.0</td>\n      <td>NaN</td>\n      <td>1</td>\n      <td>7770.00</td>\n    </tr>\n    <tr>\n      <th>2275</th>\n      <td>2475505</td>\n      <td>after</td>\n      <td>7289.0</td>\n      <td>4770.85</td>\n      <td>2</td>\n      <td>3644.50</td>\n    </tr>\n    <tr>\n      <th>2276</th>\n      <td>2556252</td>\n      <td>after</td>\n      <td>1040.0</td>\n      <td>NaN</td>\n      <td>1</td>\n      <td>1040.00</td>\n    </tr>\n  </tbody>\n</table>\n<p>2277 rows × 6 columns</p>\n</div>"
     },
     "execution_count": 24,
     "metadata": {},
     "output_type": "execute_result"
    }
   ],
   "source": [
    "data_total"
   ],
   "metadata": {
    "collapsed": false
   }
  },
  {
   "cell_type": "code",
   "execution_count": 25,
   "outputs": [],
   "source": [
    "data_filtered_convo_total = data_total[data_total['AFRT_CONVERSATIONS_COUNT'] >= 2]"
   ],
   "metadata": {
    "collapsed": false
   }
  },
  {
   "cell_type": "code",
   "execution_count": 26,
   "outputs": [
    {
     "data": {
      "text/plain": "      PROJECT_ID TIPPING_POINT  TOTAL_FIRST_RESPONSE_TIME  STANDARD_DEV  \\\n0        1995771        before                   784169.0       2408.95   \n1        2034556        before                   207845.0       3366.63   \n2        1448971        before                    96637.0       1322.80   \n3         904563        before                   215453.0       1909.58   \n4        2134983        before                   266774.0       1173.32   \n...          ...           ...                        ...           ...   \n2262     2379036        before                    19525.0       5771.97   \n2263     1559627        before                     1878.0       1213.40   \n2270     2545930        before                      180.0         86.27   \n2273     1704789        before                      150.0         22.63   \n2275     2475505         after                     7289.0       4770.85   \n\n      AFRT_CONVERSATIONS_COUNT  AVG_FRT  \n0                          396  1980.22  \n1                           49  4241.73  \n2                          256   377.49  \n3                          165  1305.78  \n4                          743   359.05  \n...                        ...      ...  \n2262                         4  4881.25  \n2263                         2   939.00  \n2270                         2    90.00  \n2273                         2    75.00  \n2275                         2  3644.50  \n\n[1906 rows x 6 columns]",
      "text/html": "<div>\n<style scoped>\n    .dataframe tbody tr th:only-of-type {\n        vertical-align: middle;\n    }\n\n    .dataframe tbody tr th {\n        vertical-align: top;\n    }\n\n    .dataframe thead th {\n        text-align: right;\n    }\n</style>\n<table border=\"1\" class=\"dataframe\">\n  <thead>\n    <tr style=\"text-align: right;\">\n      <th></th>\n      <th>PROJECT_ID</th>\n      <th>TIPPING_POINT</th>\n      <th>TOTAL_FIRST_RESPONSE_TIME</th>\n      <th>STANDARD_DEV</th>\n      <th>AFRT_CONVERSATIONS_COUNT</th>\n      <th>AVG_FRT</th>\n    </tr>\n  </thead>\n  <tbody>\n    <tr>\n      <th>0</th>\n      <td>1995771</td>\n      <td>before</td>\n      <td>784169.0</td>\n      <td>2408.95</td>\n      <td>396</td>\n      <td>1980.22</td>\n    </tr>\n    <tr>\n      <th>1</th>\n      <td>2034556</td>\n      <td>before</td>\n      <td>207845.0</td>\n      <td>3366.63</td>\n      <td>49</td>\n      <td>4241.73</td>\n    </tr>\n    <tr>\n      <th>2</th>\n      <td>1448971</td>\n      <td>before</td>\n      <td>96637.0</td>\n      <td>1322.80</td>\n      <td>256</td>\n      <td>377.49</td>\n    </tr>\n    <tr>\n      <th>3</th>\n      <td>904563</td>\n      <td>before</td>\n      <td>215453.0</td>\n      <td>1909.58</td>\n      <td>165</td>\n      <td>1305.78</td>\n    </tr>\n    <tr>\n      <th>4</th>\n      <td>2134983</td>\n      <td>before</td>\n      <td>266774.0</td>\n      <td>1173.32</td>\n      <td>743</td>\n      <td>359.05</td>\n    </tr>\n    <tr>\n      <th>...</th>\n      <td>...</td>\n      <td>...</td>\n      <td>...</td>\n      <td>...</td>\n      <td>...</td>\n      <td>...</td>\n    </tr>\n    <tr>\n      <th>2262</th>\n      <td>2379036</td>\n      <td>before</td>\n      <td>19525.0</td>\n      <td>5771.97</td>\n      <td>4</td>\n      <td>4881.25</td>\n    </tr>\n    <tr>\n      <th>2263</th>\n      <td>1559627</td>\n      <td>before</td>\n      <td>1878.0</td>\n      <td>1213.40</td>\n      <td>2</td>\n      <td>939.00</td>\n    </tr>\n    <tr>\n      <th>2270</th>\n      <td>2545930</td>\n      <td>before</td>\n      <td>180.0</td>\n      <td>86.27</td>\n      <td>2</td>\n      <td>90.00</td>\n    </tr>\n    <tr>\n      <th>2273</th>\n      <td>1704789</td>\n      <td>before</td>\n      <td>150.0</td>\n      <td>22.63</td>\n      <td>2</td>\n      <td>75.00</td>\n    </tr>\n    <tr>\n      <th>2275</th>\n      <td>2475505</td>\n      <td>after</td>\n      <td>7289.0</td>\n      <td>4770.85</td>\n      <td>2</td>\n      <td>3644.50</td>\n    </tr>\n  </tbody>\n</table>\n<p>1906 rows × 6 columns</p>\n</div>"
     },
     "execution_count": 26,
     "metadata": {},
     "output_type": "execute_result"
    }
   ],
   "source": [
    "data_filtered_convo_total"
   ],
   "metadata": {
    "collapsed": false
   }
  },
  {
   "cell_type": "code",
   "execution_count": 27,
   "outputs": [
    {
     "data": {
      "text/plain": "TIPPING_POINT    after  before\nPROJECT_ID                    \n15461           251.50  149.75\n23205          1027.00  451.85\n54691          1504.00     NaN\n61755           106.14  728.83\n64855           121.86  107.78\n...                ...     ...\n2570326        3107.50     NaN\n2571125        2370.00     NaN\n2571906         110.00   83.00\n2572302         834.87     NaN\n2573981        2937.67     NaN\n\n[1077 rows x 2 columns]",
      "text/html": "<div>\n<style scoped>\n    .dataframe tbody tr th:only-of-type {\n        vertical-align: middle;\n    }\n\n    .dataframe tbody tr th {\n        vertical-align: top;\n    }\n\n    .dataframe thead th {\n        text-align: right;\n    }\n</style>\n<table border=\"1\" class=\"dataframe\">\n  <thead>\n    <tr style=\"text-align: right;\">\n      <th>TIPPING_POINT</th>\n      <th>after</th>\n      <th>before</th>\n    </tr>\n    <tr>\n      <th>PROJECT_ID</th>\n      <th></th>\n      <th></th>\n    </tr>\n  </thead>\n  <tbody>\n    <tr>\n      <th>15461</th>\n      <td>251.50</td>\n      <td>149.75</td>\n    </tr>\n    <tr>\n      <th>23205</th>\n      <td>1027.00</td>\n      <td>451.85</td>\n    </tr>\n    <tr>\n      <th>54691</th>\n      <td>1504.00</td>\n      <td>NaN</td>\n    </tr>\n    <tr>\n      <th>61755</th>\n      <td>106.14</td>\n      <td>728.83</td>\n    </tr>\n    <tr>\n      <th>64855</th>\n      <td>121.86</td>\n      <td>107.78</td>\n    </tr>\n    <tr>\n      <th>...</th>\n      <td>...</td>\n      <td>...</td>\n    </tr>\n    <tr>\n      <th>2570326</th>\n      <td>3107.50</td>\n      <td>NaN</td>\n    </tr>\n    <tr>\n      <th>2571125</th>\n      <td>2370.00</td>\n      <td>NaN</td>\n    </tr>\n    <tr>\n      <th>2571906</th>\n      <td>110.00</td>\n      <td>83.00</td>\n    </tr>\n    <tr>\n      <th>2572302</th>\n      <td>834.87</td>\n      <td>NaN</td>\n    </tr>\n    <tr>\n      <th>2573981</th>\n      <td>2937.67</td>\n      <td>NaN</td>\n    </tr>\n  </tbody>\n</table>\n<p>1077 rows × 2 columns</p>\n</div>"
     },
     "execution_count": 27,
     "metadata": {},
     "output_type": "execute_result"
    }
   ],
   "source": [
    "pivot_data_total = data_filtered_convo_total.pivot(index='PROJECT_ID', columns='TIPPING_POINT',values='AVG_FRT')\n",
    "pivot_data_total"
   ],
   "metadata": {
    "collapsed": false
   }
  },
  {
   "cell_type": "code",
   "execution_count": 28,
   "outputs": [
    {
     "data": {
      "text/plain": "TIPPING_POINT    after   before\nPROJECT_ID                     \n15461           251.50   149.75\n23205          1027.00   451.85\n61755           106.14   728.83\n64855           121.86   107.78\n84454           225.63   397.50\n...                ...      ...\n2560731        1754.31  2274.50\n2561172        2689.50   213.67\n2564926         690.25   686.00\n2565719        1505.41  5469.00\n2571906         110.00    83.00\n\n[829 rows x 2 columns]",
      "text/html": "<div>\n<style scoped>\n    .dataframe tbody tr th:only-of-type {\n        vertical-align: middle;\n    }\n\n    .dataframe tbody tr th {\n        vertical-align: top;\n    }\n\n    .dataframe thead th {\n        text-align: right;\n    }\n</style>\n<table border=\"1\" class=\"dataframe\">\n  <thead>\n    <tr style=\"text-align: right;\">\n      <th>TIPPING_POINT</th>\n      <th>after</th>\n      <th>before</th>\n    </tr>\n    <tr>\n      <th>PROJECT_ID</th>\n      <th></th>\n      <th></th>\n    </tr>\n  </thead>\n  <tbody>\n    <tr>\n      <th>15461</th>\n      <td>251.50</td>\n      <td>149.75</td>\n    </tr>\n    <tr>\n      <th>23205</th>\n      <td>1027.00</td>\n      <td>451.85</td>\n    </tr>\n    <tr>\n      <th>61755</th>\n      <td>106.14</td>\n      <td>728.83</td>\n    </tr>\n    <tr>\n      <th>64855</th>\n      <td>121.86</td>\n      <td>107.78</td>\n    </tr>\n    <tr>\n      <th>84454</th>\n      <td>225.63</td>\n      <td>397.50</td>\n    </tr>\n    <tr>\n      <th>...</th>\n      <td>...</td>\n      <td>...</td>\n    </tr>\n    <tr>\n      <th>2560731</th>\n      <td>1754.31</td>\n      <td>2274.50</td>\n    </tr>\n    <tr>\n      <th>2561172</th>\n      <td>2689.50</td>\n      <td>213.67</td>\n    </tr>\n    <tr>\n      <th>2564926</th>\n      <td>690.25</td>\n      <td>686.00</td>\n    </tr>\n    <tr>\n      <th>2565719</th>\n      <td>1505.41</td>\n      <td>5469.00</td>\n    </tr>\n    <tr>\n      <th>2571906</th>\n      <td>110.00</td>\n      <td>83.00</td>\n    </tr>\n  </tbody>\n</table>\n<p>829 rows × 2 columns</p>\n</div>"
     },
     "execution_count": 28,
     "metadata": {},
     "output_type": "execute_result"
    }
   ],
   "source": [
    "filtered_pivot_data_total = pivot_data_total[~pivot_data_total['after'].isna() & ~pivot_data_total['before'].isna()]\n",
    "filtered_pivot_data_total"
   ],
   "metadata": {
    "collapsed": false
   }
  },
  {
   "cell_type": "code",
   "execution_count": 29,
   "outputs": [
    {
     "data": {
      "text/plain": "Ttest_relResult(statistic=-1.1371165374385863, pvalue=0.2558185340141712)"
     },
     "execution_count": 29,
     "metadata": {},
     "output_type": "execute_result"
    }
   ],
   "source": [
    "stats.ttest_rel(filtered_pivot_data_total.before, filtered_pivot_data_total.after)"
   ],
   "metadata": {
    "collapsed": false
   }
  },
  {
   "cell_type": "code",
   "execution_count": 43,
   "outputs": [
    {
     "data": {
      "text/plain": "TIPPING_POINT\nafter     16.157927\nbefore    18.655252\ndtype: float64"
     },
     "execution_count": 43,
     "metadata": {},
     "output_type": "execute_result"
    }
   ],
   "source": [
    "sum_convo_total  = data_filtered_convo_total.pivot(index='PROJECT_ID', columns='TIPPING_POINT',\n",
    "                                                       values='AFRT_CONVERSATIONS_COUNT').sum()\n",
    "sum_time_total  = data_filtered_convo_total.pivot(index='PROJECT_ID', columns='TIPPING_POINT',\n",
    "                                                      values='TOTAL_FIRST_RESPONSE_TIME').sum()\n",
    "result_total = (sum_time_total / sum_convo_total ) / 60\n",
    "result_total"
   ],
   "metadata": {
    "collapsed": false
   }
  },
  {
   "cell_type": "code",
   "execution_count": 49,
   "outputs": [
    {
     "data": {
      "text/plain": "-2.4973253669751827"
     },
     "execution_count": 49,
     "metadata": {},
     "output_type": "execute_result"
    }
   ],
   "source": [
    "diff_order_total = result_total.after - result_total.before\n",
    "diff_order_total"
   ],
   "metadata": {
    "collapsed": false
   }
  },
  {
   "cell_type": "code",
   "execution_count": null,
   "outputs": [],
   "source": [
    "#product"
   ],
   "metadata": {
    "collapsed": false
   }
  },
  {
   "cell_type": "code",
   "execution_count": 30,
   "outputs": [
    {
     "name": "stderr",
     "output_type": "stream",
     "text": [
      "/Users/magdalenakulczyk/opt/anaconda3/lib/python3.9/site-packages/pandas/io/sql.py:762: UserWarning: pandas only support SQLAlchemy connectable(engine/connection) ordatabase string URI or sqlite3 DBAPI2 connectionother DBAPI2 objects are not tested, please consider using SQLAlchemy\n",
      "  warnings.warn(\n"
     ]
    }
   ],
   "source": [
    "query_product = '''\n",
    "with project_details as(\n",
    "    select PROJECT_ID\n",
    "          ,PROJECT_PUBLIC_KEY\n",
    "\n",
    "    from REPORTING.PROJECTS.PROJECT_DETAILS\n",
    "    where TEST_PROJECT=0 and PROJECT_DELETED_IND=0\n",
    " ),\n",
    "\n",
    " join_to_convo_from_intents as (\n",
    "     select distinct\n",
    "     event_time::date                                    as period_date,\n",
    "     event_data:\"user_properties\":\"project_id\"::integer  as project_id,\n",
    "      event_type\n",
    "\n",
    "      from staging.amplitude.stg_amplitude__raw_events\n",
    "      where event_type ='Conversation: Join to the conversation'\n",
    "      and\n",
    "      (event_data:\"event_properties\":\"source\"='intents'\n",
    "       or\n",
    "       event_data:\"event_properties\":\"source\"\n",
    "       in('shippingPolicy','orderIssues','products'))\n",
    "       and period_date>='2022-12-01'\n",
    " ),\n",
    "  intent_adoption as (\n",
    "    select project_id\n",
    "        , min(period_date) as adoption_date\n",
    "        , datediff(day,adoption_date,current_date-1) as diff_since_adoption\n",
    "    from join_to_convo_from_intents\n",
    "    group by 1\n",
    ") ,\n",
    "  ml_convos as (\n",
    "    select PUBLIC_KEY,\n",
    "        THREAD_ID,\n",
    "        CONV_ID\n",
    "    from staging.NLP.STG_NLP__INTENT_CLASSIFIER_PREDICTIONS\n",
    "    where INTENT_LABEL='product'\n",
    "),\n",
    "\n",
    "\n",
    " conversation_thread as (\n",
    "    select distinct ct.project_id\n",
    "                   , ia.adoption_date\n",
    "                   , ct.started_at::DATE\n",
    "                   , case when ct.started_at::DATE <adoption_date then 'before' else 'after' end tipping_point\n",
    "                   , ct.conversation_id\n",
    "                   , ct.id conversation_thread_id\n",
    "                   , HAS_MESSAGES_FROM_VISITOR\n",
    "\n",
    "    from intent_adoption ia\n",
    "    join project_details pd\n",
    "    on pd.PROJECT_ID=ia.project_id\n",
    "    join reporting.core.conversation_thread ct\n",
    "    on ct.PROJECT_ID=ia.project_id\n",
    "    join ml_convos mc\n",
    "     on mc.PUBLIC_KEY=pd.PROJECT_PUBLIC_KEY and  ct.id=mc.THREAD_ID and ct.started_at::DATE  >= dateadd(day,-diff_since_adoption,adoption_date)\n",
    "     where ia.adoption_date is not null and ct.started_at::DATE>='2022-09-01'\n",
    " ),\n",
    "\n",
    " conversation_threads_operators as (\n",
    "    select conversation_thread_id\n",
    "          , operator_id\n",
    "          , response_time\n",
    "          , is_first_response_in_thread\n",
    "\n",
    "    from reporting.core.conversation_threads_operators\n",
    " ),\n",
    "\n",
    "conversation_threads_joined as (\n",
    "     select * from conversation_thread\n",
    "      left join conversation_threads_operators using(conversation_thread_id)\n",
    " )\n",
    "\n",
    "select   project_id,tipping_point\n",
    "       , sum(response_time) as total_first_response_time\n",
    "       , round(stddev(RESPONSE_TIME),2) as standard_dev\n",
    "   -- response_time is null when the convo was started by operator so we want to exclude these threads\n",
    "       ,  sum(iff(response_time is not null,1,0)) as afrt_conversations_count\n",
    "       , round(total_first_response_time/afrt_conversations_count,2) avg_frt\n",
    "\n",
    "from conversation_threads_joined\n",
    "where has_messages_from_visitor=1 and is_first_response_in_thread=1\n",
    "group by 1,2\n",
    "'''\n",
    "\n",
    "# load the data\n",
    "data_product= pd.read_sql(query_product, cn)"
   ],
   "metadata": {
    "collapsed": false
   }
  },
  {
   "cell_type": "code",
   "execution_count": 31,
   "outputs": [
    {
     "data": {
      "text/plain": "Ttest_relResult(statistic=-0.5963118156402836, pvalue=0.5511605489701161)"
     },
     "execution_count": 31,
     "metadata": {},
     "output_type": "execute_result"
    }
   ],
   "source": [
    "data_filtered_convo_product = data_product[data_product['AFRT_CONVERSATIONS_COUNT'] >= 2]\n",
    "pivot_data_product = data_filtered_convo_product.pivot(index='PROJECT_ID', columns='TIPPING_POINT',values='AVG_FRT')\n",
    "filtered_pivot_data_product = pivot_data_product[~pivot_data_product['after'].isna() & ~pivot_data_product['before'].isna()]\n",
    "stats.ttest_rel(filtered_pivot_data_product.before, filtered_pivot_data_product.after)\n"
   ],
   "metadata": {
    "collapsed": false
   }
  },
  {
   "cell_type": "code",
   "execution_count": 42,
   "outputs": [
    {
     "data": {
      "text/plain": "TIPPING_POINT\nafter     14.547558\nbefore    15.608034\ndtype: float64"
     },
     "execution_count": 42,
     "metadata": {},
     "output_type": "execute_result"
    }
   ],
   "source": [
    "sum_convo_product  = data_filtered_convo_product.pivot(index='PROJECT_ID', columns='TIPPING_POINT',\n",
    "                                                                values='AFRT_CONVERSATIONS_COUNT').sum()\n",
    "sum_time_product  = data_filtered_convo_product.pivot(index='PROJECT_ID', columns='TIPPING_POINT',\n",
    "                                                               values='TOTAL_FIRST_RESPONSE_TIME').sum()\n",
    "result_product  = (sum_time_product  / sum_convo_product ) / 60\n",
    "result_product"
   ],
   "metadata": {
    "collapsed": false
   }
  },
  {
   "cell_type": "code",
   "execution_count": 48,
   "outputs": [
    {
     "data": {
      "text/plain": "-1.0604764909340059"
     },
     "execution_count": 48,
     "metadata": {},
     "output_type": "execute_result"
    }
   ],
   "source": [
    "diff_order_product = result_product.after - result_product.before\n",
    "diff_order_product"
   ],
   "metadata": {
    "collapsed": false
   }
  },
  {
   "cell_type": "code",
   "execution_count": null,
   "outputs": [],
   "source": [
    "#order status"
   ],
   "metadata": {
    "collapsed": false
   }
  },
  {
   "cell_type": "code",
   "execution_count": 35,
   "outputs": [
    {
     "name": "stderr",
     "output_type": "stream",
     "text": [
      "/Users/magdalenakulczyk/opt/anaconda3/lib/python3.9/site-packages/pandas/io/sql.py:762: UserWarning: pandas only support SQLAlchemy connectable(engine/connection) ordatabase string URI or sqlite3 DBAPI2 connectionother DBAPI2 objects are not tested, please consider using SQLAlchemy\n",
      "  warnings.warn(\n"
     ]
    }
   ],
   "source": [
    "query_order_status = '''\n",
    "with project_details as(\n",
    "    select PROJECT_ID\n",
    "          ,PROJECT_PUBLIC_KEY\n",
    "\n",
    "    from REPORTING.PROJECTS.PROJECT_DETAILS\n",
    "    where TEST_PROJECT=0 and PROJECT_DELETED_IND=0\n",
    " ),\n",
    "\n",
    " join_to_convo_from_intents as (\n",
    "     select distinct\n",
    "     event_time::date                                    as period_date,\n",
    "     event_data:\"user_properties\":\"project_id\"::integer  as project_id,\n",
    "      event_type\n",
    "\n",
    "      from staging.amplitude.stg_amplitude__raw_events\n",
    "      where event_type ='Conversation: Join to the conversation'\n",
    "      and\n",
    "      (event_data:\"event_properties\":\"source\"='intents'\n",
    "       or\n",
    "       event_data:\"event_properties\":\"source\"\n",
    "       in('shippingPolicy','orderIssues','products'))\n",
    "       and period_date>='2022-12-01'\n",
    " ),\n",
    "  intent_adoption as (\n",
    "    select project_id\n",
    "        , min(period_date) as adoption_date\n",
    "        , datediff(day,adoption_date,current_date-1) as diff_since_adoption\n",
    "    from join_to_convo_from_intents\n",
    "    group by 1\n",
    ") ,\n",
    "  ml_convos as (\n",
    "    select PUBLIC_KEY,\n",
    "        THREAD_ID,\n",
    "        CONV_ID\n",
    "    from staging.NLP.STG_NLP__INTENT_CLASSIFIER_PREDICTIONS\n",
    "    where INTENT_LABEL='order status'\n",
    "),\n",
    "\n",
    "\n",
    " conversation_thread as (\n",
    "    select distinct ct.project_id\n",
    "                   , ia.adoption_date\n",
    "                   , ct.started_at::DATE\n",
    "                   , case when ct.started_at::DATE <adoption_date then 'before' else 'after' end tipping_point\n",
    "                   , ct.conversation_id\n",
    "                   , ct.id conversation_thread_id\n",
    "                   , HAS_MESSAGES_FROM_VISITOR\n",
    "\n",
    "    from intent_adoption ia\n",
    "    join project_details pd\n",
    "    on pd.PROJECT_ID=ia.project_id\n",
    "    join reporting.core.conversation_thread ct\n",
    "    on ct.PROJECT_ID=ia.project_id\n",
    "    join ml_convos mc\n",
    "     on mc.PUBLIC_KEY=pd.PROJECT_PUBLIC_KEY and  ct.id=mc.THREAD_ID and ct.started_at::DATE  >= dateadd(day,-diff_since_adoption,adoption_date)\n",
    "     where ia.adoption_date is not null and ct.started_at::DATE>='2022-09-01'\n",
    " ),\n",
    "\n",
    " conversation_threads_operators as (\n",
    "    select conversation_thread_id\n",
    "          , operator_id\n",
    "          , response_time\n",
    "          , is_first_response_in_thread\n",
    "\n",
    "    from reporting.core.conversation_threads_operators\n",
    " ),\n",
    "\n",
    "conversation_threads_joined as (\n",
    "     select * from conversation_thread\n",
    "      left join conversation_threads_operators using(conversation_thread_id)\n",
    " )\n",
    "\n",
    "select   project_id,tipping_point\n",
    "       , sum(response_time) as total_first_response_time\n",
    "       , round(stddev(RESPONSE_TIME),2) as standard_dev\n",
    "   -- response_time is null when the convo was started by operator so we want to exclude these threads\n",
    "       , sum(iff(response_time is not null,1,0)) as afrt_conversations_count\n",
    "       , round(total_first_response_time/afrt_conversations_count,2) avg_frt\n",
    "\n",
    "from conversation_threads_joined\n",
    "where has_messages_from_visitor=1 and is_first_response_in_thread=1\n",
    "group by 1,2\n",
    "'''\n",
    "\n",
    "# connect to scowflake\n",
    "cn = snowflake.connector.connect(\n",
    "    user = 'mkulczyk',\n",
    "    password = password,\n",
    "    account = 'ox58300.eu-west-1',\n",
    "    warehouse = 'COMPUTE_WH_S',\n",
    "    database = 'REPORTING',\n",
    "    schema = 'DWH')\n",
    "\n",
    "# load the data\n",
    "data_order_status= pd.read_sql(query_order_status, cn)"
   ],
   "metadata": {
    "collapsed": false
   }
  },
  {
   "cell_type": "code",
   "execution_count": 36,
   "outputs": [
    {
     "data": {
      "text/plain": "Ttest_relResult(statistic=-0.9455263446386191, pvalue=0.34515882004720466)"
     },
     "execution_count": 36,
     "metadata": {},
     "output_type": "execute_result"
    }
   ],
   "source": [
    "data_filtered_convo_order_status = data_order_status[data_order_status['AFRT_CONVERSATIONS_COUNT'] >= 2]\n",
    "pivot_data_order_status = data_filtered_convo_order_status.pivot(index='PROJECT_ID', columns='TIPPING_POINT',values='AVG_FRT')\n",
    "filtered_pivot_data_order_status = pivot_data_order_status[~pivot_data_order_status['after'].isna() & ~pivot_data_order_status['before'].isna()]\n",
    "stats.ttest_rel(filtered_pivot_data_order_status.before, filtered_pivot_data_order_status.after)"
   ],
   "metadata": {
    "collapsed": false
   }
  },
  {
   "cell_type": "code",
   "execution_count": 37,
   "outputs": [],
   "source": [
    "sum_convo_order_status = data_filtered_convo_order_status.pivot(index='PROJECT_ID', columns='TIPPING_POINT',values='AFRT_CONVERSATIONS_COUNT').sum()"
   ],
   "metadata": {
    "collapsed": false
   }
  },
  {
   "cell_type": "code",
   "execution_count": 39,
   "outputs": [],
   "source": [
    "sum_time_order_status = data_filtered_convo_order_status.pivot(index='PROJECT_ID', columns='TIPPING_POINT',values='TOTAL_FIRST_RESPONSE_TIME').sum()"
   ],
   "metadata": {
    "collapsed": false
   }
  },
  {
   "cell_type": "code",
   "execution_count": 44,
   "outputs": [],
   "source": [
    "result_order_status = (sum_time_order_status / sum_convo_order_status)/60"
   ],
   "metadata": {
    "collapsed": false
   }
  },
  {
   "cell_type": "code",
   "execution_count": 45,
   "outputs": [
    {
     "data": {
      "text/plain": "TIPPING_POINT\nafter     20.932336\nbefore    24.661082\ndtype: float64"
     },
     "execution_count": 45,
     "metadata": {},
     "output_type": "execute_result"
    }
   ],
   "source": [
    "result_order_status"
   ],
   "metadata": {
    "collapsed": false
   }
  },
  {
   "cell_type": "code",
   "execution_count": 47,
   "outputs": [
    {
     "data": {
      "text/plain": "-3.728746136324549"
     },
     "execution_count": 47,
     "metadata": {},
     "output_type": "execute_result"
    }
   ],
   "source": [
    "diff_order_status = result_order_status.after - result_order_status.before\n",
    "diff_order_status"
   ],
   "metadata": {
    "collapsed": false
   }
  }
 ],
 "metadata": {
  "kernelspec": {
   "display_name": "Python 3",
   "language": "python",
   "name": "python3"
  },
  "language_info": {
   "codemirror_mode": {
    "name": "ipython",
    "version": 2
   },
   "file_extension": ".py",
   "mimetype": "text/x-python",
   "name": "python",
   "nbconvert_exporter": "python",
   "pygments_lexer": "ipython2",
   "version": "2.7.6"
  }
 },
 "nbformat": 4,
 "nbformat_minor": 0
}
