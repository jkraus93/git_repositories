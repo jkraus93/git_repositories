{
 "cells": [
  {
   "cell_type": "code",
   "execution_count": 12,
   "metadata": {
    "collapsed": true
   },
   "outputs": [],
   "source": [
    "import numpy as np\n",
    "from scipy import stats\n",
    "import pandas as pd\n",
    "from getpass import getpass\n",
    "import snowflake.connector\n",
    "password = getpass('Password: ')"
   ]
  },
  {
   "cell_type": "code",
   "execution_count": null,
   "metadata": {
    "collapsed": false
   },
   "outputs": [],
   "source": [
    "# connect to scowflake\n",
    "cn = snowflake.connector.connect(\n",
    "    user = '',\n",
    "    password = password,\n",
    "    account = 'ox58300.eu-west-1',\n",
    "    warehouse = 'COMPUTE_WH_S',\n",
    "    database = 'REPORTING',\n",
    "    schema = 'DWH')"
   ]
  },
  {
   "cell_type": "code",
   "execution_count": null,
   "metadata": {
    "collapsed": false
   },
   "outputs": [],
   "source": [
    "#total"
   ]
  },
  {
   "cell_type": "code",
   "execution_count": null,
   "metadata": {
    "collapsed": false
   },
   "outputs": [],
   "source": [
    "query_total = '''\n",
    "with project_details as(\n",
    "    select PROJECT_ID\n",
    "          ,PROJECT_PUBLIC_KEY\n",
    "\n",
    "    from REPORTING.PROJECTS.PROJECT_DETAILS\n",
    "    where TEST_PROJECT=0 and PROJECT_DELETED_IND=0\n",
    " ),\n",
    "\n",
    " join_to_convo_from_intents as (\n",
    "     select distinct\n",
    "     event_time::date                                    as period_date,\n",
    "     event_data:\"user_properties\":\"project_id\"::integer  as project_id,\n",
    "      event_type\n",
    "\n",
    "      from staging.amplitude.stg_amplitude__raw_events\n",
    "      where event_type ='Conversation: Join to the conversation'\n",
    "      and\n",
    "      (event_data:\"event_properties\":\"source\"='intents'\n",
    "       or\n",
    "       event_data:\"event_properties\":\"source\"\n",
    "       in('shippingPolicy','orderIssues','products'))\n",
    "       and period_date>='2022-12-01'\n",
    " ),\n",
    "  intent_adoption as (\n",
    "    select project_id\n",
    "        , min(period_date) as adoption_date\n",
    "        , datediff(day,adoption_date,current_date-1) as diff_since_adoption\n",
    "    from join_to_convo_from_intents\n",
    "    group by 1\n",
    ") ,\n",
    "  ml_convos as (\n",
    "    select PUBLIC_KEY,\n",
    "        THREAD_ID,\n",
    "        CONV_ID\n",
    "    from staging.NLP.STG_NLP__INTENT_CLASSIFIER_PREDICTIONS\n",
    "    where INTENT_LABEL in ('order cancelation','order change','order damaged/wrong','order status','order support',\n",
    "    'product','product exchange','refund','return','shipping change','shipping delivery issue','shipping policy')\n",
    "),\n",
    "\n",
    "\n",
    " conversation_thread as (\n",
    "    select distinct ct.project_id\n",
    "                   , ia.adoption_date\n",
    "                   , ct.started_at::DATE\n",
    "                   , case when ct.started_at::DATE <adoption_date then 'before' else 'after' end tipping_point\n",
    "                   , ct.conversation_id\n",
    "                   , ct.id conversation_thread_id\n",
    "                   , HAS_MESSAGES_FROM_VISITOR\n",
    "\n",
    "    from intent_adoption ia\n",
    "    join project_details pd\n",
    "    on pd.PROJECT_ID=ia.project_id\n",
    "    join reporting.core.conversation_thread ct\n",
    "    on ct.PROJECT_ID=ia.project_id\n",
    "    join ml_convos mc\n",
    "     on mc.PUBLIC_KEY=pd.PROJECT_PUBLIC_KEY and  ct.id=mc.THREAD_ID and ct.started_at::DATE  >= dateadd(day,-diff_since_adoption,adoption_date)\n",
    "     where ia.adoption_date is not null and ct.started_at::DATE>='2022-09-01'\n",
    " ),\n",
    "\n",
    " conversation_threads_operators as (\n",
    "    select conversation_thread_id\n",
    "          , operator_id\n",
    "          , response_time\n",
    "          , is_first_response_in_thread\n",
    "\n",
    "    from reporting.core.conversation_threads_operators\n",
    " ),\n",
    "\n",
    "conversation_threads_joined as (\n",
    "     select * from conversation_thread\n",
    "      left join conversation_threads_operators using(conversation_thread_id)\n",
    " )\n",
    "\n",
    "select   project_id,tipping_point\n",
    "       , sum(response_time) as total_first_response_time\n",
    "       , round(stddev(RESPONSE_TIME),2) as standard_dev\n",
    "   -- response_time is null when the convo was started by operator so we want to exclude these threads\n",
    "       ,  sum(iff(response_time is not null,1,0)) as afrt_conversations_count\n",
    "       , round(total_first_response_time/afrt_conversations_count,2) avg_frt\n",
    "\n",
    "from conversation_threads_joined\n",
    "where has_messages_from_visitor=1 and is_first_response_in_thread=1\n",
    "group by 1,2\n",
    "'''\n",
    "\n",
    "# connect to scowflake\n",
    "cn = snowflake.connector.connect(\n",
    "    user = 'mkulczyk',\n",
    "    password = password,\n",
    "    account = 'ox58300.eu-west-1',\n",
    "    warehouse = 'COMPUTE_WH_S',\n",
    "    database = 'REPORTING',\n",
    "    schema = 'DWH')\n",
    "\n",
    "# load the data\n",
    "data_total= pd.read_sql(query_total, cn)"
   ]
  },
  {
   "cell_type": "code",
   "execution_count": null,
   "metadata": {
    "collapsed": false
   },
   "outputs": [],
   "source": [
    "data_total"
   ]
  },
  {
   "cell_type": "code",
   "execution_count": 25,
   "metadata": {
    "collapsed": false
   },
   "outputs": [],
   "source": [
    "data_filtered_convo_total = data_total[data_total['AFRT_CONVERSATIONS_COUNT'] >= 2]"
   ]
  },
  {
   "cell_type": "code",
   "execution_count": null,
   "metadata": {
    "collapsed": false
   },
   "outputs": [],
   "source": [
    "data_filtered_convo_total"
   ]
  },
  {
   "cell_type": "code",
   "execution_count": null,
   "metadata": {
    "collapsed": false
   },
   "outputs": [],
   "source": [
    "pivot_data_total = data_filtered_convo_total.pivot(index='PROJECT_ID', columns='TIPPING_POINT',values='AVG_FRT')\n",
    "pivot_data_total"
   ]
  },
  {
   "cell_type": "code",
   "execution_count": null,
   "metadata": {
    "collapsed": false
   },
   "outputs": [],
   "source": [
    "filtered_pivot_data_total = pivot_data_total[~pivot_data_total['after'].isna() & ~pivot_data_total['before'].isna()]\n",
    "filtered_pivot_data_total"
   ]
  },
  {
   "cell_type": "code",
   "execution_count": null,
   "metadata": {
    "collapsed": false
   },
   "outputs": [],
   "source": [
    "stats.ttest_rel(filtered_pivot_data_total.before, filtered_pivot_data_total.after)"
   ]
  },
  {
   "cell_type": "code",
   "execution_count": null,
   "metadata": {
    "collapsed": false
   },
   "outputs": [],
   "source": [
    "sum_convo_total  = data_filtered_convo_total.pivot(index='PROJECT_ID', columns='TIPPING_POINT',\n",
    "                                                       values='AFRT_CONVERSATIONS_COUNT').sum()\n",
    "sum_time_total  = data_filtered_convo_total.pivot(index='PROJECT_ID', columns='TIPPING_POINT',\n",
    "                                                      values='TOTAL_FIRST_RESPONSE_TIME').sum()\n",
    "result_total = (sum_time_total / sum_convo_total ) / 60\n",
    "result_total"
   ]
  },
  {
   "cell_type": "code",
   "execution_count": 49,
   "metadata": {
    "collapsed": false
   },
   "outputs": [
    {
     "data": {
      "text/plain": [
       "-2.4973253669751827"
      ]
     },
     "execution_count": 49,
     "metadata": {},
     "output_type": "execute_result"
    }
   ],
   "source": [
    "diff_order_total = result_total.after - result_total.before\n",
    "diff_order_total"
   ]
  }
 ],
 "metadata": {
  "kernelspec": {
   "display_name": "Python 3",
   "language": "python",
   "name": "python3"
  },
  "language_info": {
   "codemirror_mode": {
    "name": "ipython",
    "version": 2
   },
   "file_extension": ".py",
   "mimetype": "text/x-python",
   "name": "python",
   "nbconvert_exporter": "python",
   "pygments_lexer": "ipython2",
   "version": "2.7.6"
  }
 },
 "nbformat": 4,
 "nbformat_minor": 0
}
